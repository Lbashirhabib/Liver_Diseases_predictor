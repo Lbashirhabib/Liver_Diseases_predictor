{
 "cells": [
  {
   "cell_type": "markdown",
   "id": "36af9eb8",
   "metadata": {},
   "source": [
    "# Liver Diseases Model"
   ]
  },
  {
   "cell_type": "code",
   "execution_count": 5,
   "id": "688f8601",
   "metadata": {},
   "outputs": [],
   "source": [
    "import pandas as pd\n",
    "import numpy as np\n",
    "import matplotlib.pyplot as plt\n",
    "import seaborn as sns"
   ]
  },
  {
   "cell_type": "code",
   "execution_count": 6,
   "id": "a492fe89",
   "metadata": {},
   "outputs": [
    {
     "name": "stdout",
     "output_type": "stream",
     "text": [
      "Requirement already satisfied: catboost in c:\\users\\hp\\anaconda3\\lib\\site-packages (1.2.8)\n",
      "Requirement already satisfied: graphviz in c:\\users\\hp\\anaconda3\\lib\\site-packages (from catboost) (0.21)\n",
      "Requirement already satisfied: matplotlib in c:\\users\\hp\\anaconda3\\lib\\site-packages (from catboost) (3.9.2)\n",
      "Requirement already satisfied: numpy<3.0,>=1.16.0 in c:\\users\\hp\\anaconda3\\lib\\site-packages (from catboost) (1.26.4)\n",
      "Requirement already satisfied: pandas>=0.24 in c:\\users\\hp\\anaconda3\\lib\\site-packages (from catboost) (2.2.2)\n",
      "Requirement already satisfied: scipy in c:\\users\\hp\\anaconda3\\lib\\site-packages (from catboost) (1.13.1)\n",
      "Requirement already satisfied: plotly in c:\\users\\hp\\anaconda3\\lib\\site-packages (from catboost) (5.24.1)\n",
      "Requirement already satisfied: six in c:\\users\\hp\\anaconda3\\lib\\site-packages (from catboost) (1.16.0)\n",
      "Requirement already satisfied: python-dateutil>=2.8.2 in c:\\users\\hp\\anaconda3\\lib\\site-packages (from pandas>=0.24->catboost) (2.9.0.post0)\n",
      "Requirement already satisfied: pytz>=2020.1 in c:\\users\\hp\\anaconda3\\lib\\site-packages (from pandas>=0.24->catboost) (2024.1)\n",
      "Requirement already satisfied: tzdata>=2022.7 in c:\\users\\hp\\anaconda3\\lib\\site-packages (from pandas>=0.24->catboost) (2023.3)\n",
      "Requirement already satisfied: contourpy>=1.0.1 in c:\\users\\hp\\anaconda3\\lib\\site-packages (from matplotlib->catboost) (1.2.0)\n",
      "Requirement already satisfied: cycler>=0.10 in c:\\users\\hp\\anaconda3\\lib\\site-packages (from matplotlib->catboost) (0.11.0)\n",
      "Requirement already satisfied: fonttools>=4.22.0 in c:\\users\\hp\\anaconda3\\lib\\site-packages (from matplotlib->catboost) (4.51.0)\n",
      "Requirement already satisfied: kiwisolver>=1.3.1 in c:\\users\\hp\\anaconda3\\lib\\site-packages (from matplotlib->catboost) (1.4.4)\n",
      "Requirement already satisfied: packaging>=20.0 in c:\\users\\hp\\anaconda3\\lib\\site-packages (from matplotlib->catboost) (24.1)\n",
      "Requirement already satisfied: pillow>=8 in c:\\users\\hp\\anaconda3\\lib\\site-packages (from matplotlib->catboost) (10.4.0)\n",
      "Requirement already satisfied: pyparsing>=2.3.1 in c:\\users\\hp\\anaconda3\\lib\\site-packages (from matplotlib->catboost) (3.1.2)\n",
      "Requirement already satisfied: tenacity>=6.2.0 in c:\\users\\hp\\anaconda3\\lib\\site-packages (from plotly->catboost) (8.2.3)\n"
     ]
    }
   ],
   "source": [
    "!pip install catboost"
   ]
  },
  {
   "cell_type": "code",
   "execution_count": 7,
   "id": "66ad0e4a",
   "metadata": {},
   "outputs": [],
   "source": [
    "from sklearn.model_selection import train_test_split\n",
    "from catboost import CatBoostClassifier, CatBoostRegressor"
   ]
  },
  {
   "cell_type": "code",
   "execution_count": 8,
   "id": "6f1bbe98",
   "metadata": {},
   "outputs": [],
   "source": [
    "train = pd.read_csv(r'C:\\Users\\hp\\Desktop\\Data-Science\\06.Data-Science-3MTT\\Knowledge Showcase July\\train_clean.csv')\n",
    "test = pd.read_csv(r'C:\\Users\\hp\\Desktop\\Data-Science\\06.Data-Science-3MTT\\Knowledge Showcase July\\train_clean.csv')"
   ]
  },
  {
   "cell_type": "code",
   "execution_count": 9,
   "id": "0feb5414",
   "metadata": {},
   "outputs": [],
   "source": [
    "train = train.drop('ID', axis=1)\n",
    "test = test.drop('ID', axis=1)"
   ]
  },
  {
   "cell_type": "code",
   "execution_count": 10,
   "id": "39115e69",
   "metadata": {},
   "outputs": [],
   "source": [
    "X = train.drop('Stage', axis=1)\n",
    "y = train['Stage']"
   ]
  },
  {
   "cell_type": "code",
   "execution_count": 11,
   "id": "69c648b5",
   "metadata": {},
   "outputs": [],
   "source": [
    "# Split the data into 30% validation and 70% training\n",
    "X_train, X_val, y_train, y_val = train_test_split(X, y, test_size=0.3, random_state=101, stratify=y)"
   ]
  },
  {
   "cell_type": "code",
   "execution_count": 12,
   "id": "f997f9a4",
   "metadata": {},
   "outputs": [],
   "source": [
    "model=CatBoostClassifier(iterations=800,\n",
    "                              learning_rate=0.1,\n",
    "                              depth=4,loss_function='MultiClass', \n",
    "                         bootstrap_type='Bernoulli',\n",
    "                              subsample=0.9,\n",
    "                              eval_metric='TotalF1',\n",
    "                              metric_period=20,\n",
    "                              allow_writing_files=False)"
   ]
  },
  {
   "cell_type": "code",
   "execution_count": 13,
   "id": "c06a7790",
   "metadata": {},
   "outputs": [
    {
     "name": "stdout",
     "output_type": "stream",
     "text": [
      "0:\tlearn: 0.3521026\ttest: 0.3521094\tbest: 0.3521094 (0)\ttotal: 146ms\tremaining: 1m 56s\n",
      "20:\tlearn: 0.3507487\ttest: 0.3509068\tbest: 0.3521094 (0)\ttotal: 334ms\tremaining: 12.4s\n",
      "40:\tlearn: 0.3507487\ttest: 0.3509068\tbest: 0.3521094 (0)\ttotal: 578ms\tremaining: 10.7s\n",
      "60:\tlearn: 0.3507487\ttest: 0.3509068\tbest: 0.3521094 (0)\ttotal: 761ms\tremaining: 9.21s\n",
      "80:\tlearn: 0.3516847\ttest: 0.3509068\tbest: 0.3521094 (0)\ttotal: 975ms\tremaining: 8.66s\n",
      "100:\tlearn: 0.3548960\ttest: 0.3522216\tbest: 0.3522216 (100)\ttotal: 1.15s\tremaining: 7.97s\n",
      "120:\tlearn: 0.3590556\ttest: 0.3517788\tbest: 0.3522216 (100)\ttotal: 1.33s\tremaining: 7.47s\n",
      "140:\tlearn: 0.3631609\ttest: 0.3517814\tbest: 0.3522216 (100)\ttotal: 1.49s\tremaining: 6.96s\n",
      "160:\tlearn: 0.3708179\ttest: 0.3539323\tbest: 0.3539323 (160)\ttotal: 1.66s\tremaining: 6.61s\n",
      "180:\tlearn: 0.3784458\ttest: 0.3557032\tbest: 0.3557032 (180)\ttotal: 1.81s\tremaining: 6.21s\n",
      "200:\tlearn: 0.3878435\ttest: 0.3530046\tbest: 0.3557032 (180)\ttotal: 1.98s\tremaining: 5.91s\n",
      "220:\tlearn: 0.4011621\ttest: 0.3583508\tbest: 0.3583508 (220)\ttotal: 2.13s\tremaining: 5.59s\n",
      "240:\tlearn: 0.4147947\ttest: 0.3593440\tbest: 0.3593440 (240)\ttotal: 2.31s\tremaining: 5.35s\n",
      "260:\tlearn: 0.4212379\ttest: 0.3614818\tbest: 0.3614818 (260)\ttotal: 2.45s\tremaining: 5.07s\n",
      "280:\tlearn: 0.4322508\ttest: 0.3622159\tbest: 0.3622159 (280)\ttotal: 2.63s\tremaining: 4.85s\n",
      "300:\tlearn: 0.4394384\ttest: 0.3626097\tbest: 0.3626097 (300)\ttotal: 2.77s\tremaining: 4.6s\n",
      "320:\tlearn: 0.4483917\ttest: 0.3621569\tbest: 0.3626097 (300)\ttotal: 2.97s\tremaining: 4.43s\n",
      "340:\tlearn: 0.4561228\ttest: 0.3650262\tbest: 0.3650262 (340)\ttotal: 3.12s\tremaining: 4.2s\n",
      "360:\tlearn: 0.4684887\ttest: 0.3654075\tbest: 0.3654075 (360)\ttotal: 3.29s\tremaining: 4s\n",
      "380:\tlearn: 0.4743735\ttest: 0.3659851\tbest: 0.3659851 (380)\ttotal: 3.43s\tremaining: 3.77s\n",
      "400:\tlearn: 0.4839790\ttest: 0.3660734\tbest: 0.3660734 (400)\ttotal: 3.6s\tremaining: 3.58s\n",
      "420:\tlearn: 0.4975313\ttest: 0.3663604\tbest: 0.3663604 (420)\ttotal: 3.75s\tremaining: 3.38s\n",
      "440:\tlearn: 0.5093828\ttest: 0.3659074\tbest: 0.3663604 (420)\ttotal: 3.92s\tremaining: 3.19s\n",
      "460:\tlearn: 0.5223745\ttest: 0.3685914\tbest: 0.3685914 (460)\ttotal: 4.09s\tremaining: 3.01s\n",
      "480:\tlearn: 0.5323953\ttest: 0.3667503\tbest: 0.3685914 (460)\ttotal: 4.28s\tremaining: 2.84s\n",
      "500:\tlearn: 0.5404424\ttest: 0.3724746\tbest: 0.3724746 (500)\ttotal: 4.43s\tremaining: 2.64s\n",
      "520:\tlearn: 0.5526968\ttest: 0.3729636\tbest: 0.3729636 (520)\ttotal: 4.6s\tremaining: 2.46s\n",
      "540:\tlearn: 0.5618528\ttest: 0.3748030\tbest: 0.3748030 (540)\ttotal: 4.76s\tremaining: 2.28s\n",
      "560:\tlearn: 0.5694969\ttest: 0.3747634\tbest: 0.3748030 (540)\ttotal: 4.94s\tremaining: 2.1s\n",
      "580:\tlearn: 0.5783044\ttest: 0.3730935\tbest: 0.3748030 (540)\ttotal: 5.09s\tremaining: 1.92s\n",
      "600:\tlearn: 0.5867420\ttest: 0.3756510\tbest: 0.3756510 (600)\ttotal: 5.27s\tremaining: 1.75s\n",
      "620:\tlearn: 0.5943700\ttest: 0.3787602\tbest: 0.3787602 (620)\ttotal: 5.44s\tremaining: 1.57s\n",
      "640:\tlearn: 0.6013607\ttest: 0.3759203\tbest: 0.3787602 (620)\ttotal: 5.6s\tremaining: 1.39s\n",
      "660:\tlearn: 0.6086543\ttest: 0.3803039\tbest: 0.3803039 (660)\ttotal: 5.75s\tremaining: 1.21s\n",
      "680:\tlearn: 0.6142422\ttest: 0.3819140\tbest: 0.3819140 (680)\ttotal: 5.93s\tremaining: 1.04s\n",
      "700:\tlearn: 0.6237092\ttest: 0.3761642\tbest: 0.3819140 (680)\ttotal: 6.12s\tremaining: 864ms\n",
      "720:\tlearn: 0.6325558\ttest: 0.3819944\tbest: 0.3819944 (720)\ttotal: 6.32s\tremaining: 692ms\n",
      "740:\tlearn: 0.6414168\ttest: 0.3811430\tbest: 0.3819944 (720)\ttotal: 6.48s\tremaining: 516ms\n",
      "760:\tlearn: 0.6483305\ttest: 0.3778459\tbest: 0.3819944 (720)\ttotal: 6.65s\tremaining: 341ms\n",
      "780:\tlearn: 0.6555042\ttest: 0.3793381\tbest: 0.3819944 (720)\ttotal: 6.8s\tremaining: 165ms\n",
      "799:\tlearn: 0.6643434\ttest: 0.3800929\tbest: 0.3819944 (720)\ttotal: 6.95s\tremaining: 0us\n",
      "\n",
      "bestTest = 0.3819944208\n",
      "bestIteration = 720\n",
      "\n",
      "Shrink model to first 721 iterations.\n"
     ]
    },
    {
     "data": {
      "text/plain": [
       "<catboost.core.CatBoostClassifier at 0x2803e7c27e0>"
      ]
     },
     "execution_count": 13,
     "metadata": {},
     "output_type": "execute_result"
    }
   ],
   "source": [
    "model.fit(X_train, y_train, eval_set=(X_val, y_val))"
   ]
  },
  {
   "cell_type": "code",
   "execution_count": 14,
   "id": "f7ae51d9",
   "metadata": {},
   "outputs": [],
   "source": [
    "y_pred=model.predict(test)"
   ]
  },
  {
   "cell_type": "code",
   "execution_count": 16,
   "id": "a8ffd99b",
   "metadata": {},
   "outputs": [],
   "source": [
    "from sklearn.metrics import f1_score"
   ]
  },
  {
   "cell_type": "code",
   "execution_count": 17,
   "id": "bf996bf3",
   "metadata": {},
   "outputs": [
    {
     "name": "stdout",
     "output_type": "stream",
     "text": [
      "0.5029411764705882\n"
     ]
    }
   ],
   "source": [
    "print(f1_score(y_val, model.predict(X_val), average='micro'))"
   ]
  },
  {
   "cell_type": "code",
   "execution_count": 18,
   "id": "090aa343",
   "metadata": {},
   "outputs": [],
   "source": [
    "pred = model.predict(test)"
   ]
  },
  {
   "cell_type": "code",
   "execution_count": null,
   "id": "10be0416",
   "metadata": {},
   "outputs": [],
   "source": [
    "res = pd.DataFrame(pred) \n",
    "res.index = test.index \n",
    "res.columns = [\"Stage\"]"
   ]
  },
  {
   "cell_type": "code",
   "execution_count": 20,
   "id": "b18a194a",
   "metadata": {},
   "outputs": [
    {
     "data": {
      "text/plain": [
       "Stage\n",
       "4.0    5791\n",
       "2.0     596\n",
       "3.0     368\n",
       "1.0      45\n",
       "Name: count, dtype: int64"
      ]
     },
     "execution_count": 20,
     "metadata": {},
     "output_type": "execute_result"
    }
   ],
   "source": [
    "res['Stage'].value_counts()"
   ]
  },
  {
   "cell_type": "code",
   "execution_count": 21,
   "id": "a183970d",
   "metadata": {},
   "outputs": [],
   "source": [
    "res.to_csv('prediction_results.csv', index=False)"
   ]
  },
  {
   "cell_type": "code",
   "execution_count": 22,
   "id": "2c4c9160",
   "metadata": {},
   "outputs": [
    {
     "data": {
      "text/plain": [
       "['liver_disease_model.pkl']"
      ]
     },
     "execution_count": 22,
     "metadata": {},
     "output_type": "execute_result"
    }
   ],
   "source": [
    "import joblib\n",
    "\n",
    "# Saving the model\n",
    "joblib.dump(model, 'liver_disease_model.pkl')"
   ]
  },
  {
   "cell_type": "code",
   "execution_count": 23,
   "id": "d655c319",
   "metadata": {},
   "outputs": [],
   "source": [
    "import pandas as pd\n",
    "import numpy as np\n",
    "import pickle\n",
    "from sklearn.preprocessing import StandardScaler\n",
    "\n",
    "# Load the saved model\n",
    "with open('liver_disease_model.pkl', 'rb') as file:\n",
    "    model = pickle.load(file)\n",
    "\n",
    "# Function to preprocess new data and make predictions\n",
    "def predict_liver_disease(new_data):\n",
    "    \"\"\"\n",
    "    Predict liver disease stage based on input features\n",
    "    \n",
    "    Args:\n",
    "    new_data (DataFrame): DataFrame containing the same features used in training\n",
    "    \n",
    "    Returns:\n",
    "    array: Predicted stages (1-4)\n",
    "    \"\"\"\n",
    "    # Preprocess the data (same as training preprocessing)\n",
    "    scaler = StandardScaler()\n",
    "    X_new = scaler.fit_transform(new_data)\n",
    "    \n",
    "    # Make predictions\n",
    "    predictions = model.predict(X_new)\n",
    "    \n",
    "    return predictions"
   ]
  }
 ],
 "metadata": {
  "kernelspec": {
   "display_name": "base",
   "language": "python",
   "name": "python3"
  },
  "language_info": {
   "codemirror_mode": {
    "name": "ipython",
    "version": 3
   },
   "file_extension": ".py",
   "mimetype": "text/x-python",
   "name": "python",
   "nbconvert_exporter": "python",
   "pygments_lexer": "ipython3",
   "version": "3.12.7"
  }
 },
 "nbformat": 4,
 "nbformat_minor": 5
}
